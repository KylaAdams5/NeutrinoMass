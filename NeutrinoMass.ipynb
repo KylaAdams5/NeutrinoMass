{
 "cells": [
  {
   "cell_type": "markdown",
   "metadata": {},
   "source": [
    "# Determining the Mass of the Neutrino\n",
    "\n",
    "This IPython Notebook utilised the code contained in the Folder ~Name~ to investigate the mass of the neutrino through experimental data and statistical estimates."
   ]
  },
  {
   "cell_type": "code",
   "execution_count": 1,
   "metadata": {},
   "outputs": [
    {
     "name": "stdout",
     "output_type": "stream",
     "text": [
      "`ftol` termination condition is satisfied.\n",
      "Function evaluations 4, initial cost 1.4783e+47, final cost 7.4191e+42, first-order optimality 1.93e+15.\n",
      "[ -5.91398941e+20   1.26172101e+23] [[  1.82692621e+39  -2.56683132e+41]\n",
      " [ -2.56683132e+41   3.79187667e+43]] [  4.27425574e+19   6.15782159e+21]\n",
      "sum 562.0 562.0\n",
      "gradient -5.91398941148e+20\n",
      "intercept 1.26172101231e+23\n",
      "Error 16307453952.0\n",
      "Error [16307453952.0, 16307453952.0, 16307453952.0, 16307453952.0]\n",
      "Variance is 31.862987932709636 1.8941911467101203e+22\n"
     ]
    }
   ],
   "source": [
    "import pandas\n",
    "import LineFit\n",
    "import import_data\n",
    "import ipywidgets as widgets"
   ]
  },
  {
   "cell_type": "code",
   "execution_count": 5,
   "metadata": {},
   "outputs": [
    {
     "data": {
      "application/vnd.jupyter.widget-view+json": {
       "model_id": "443114e7cf524a84ba49757fb6c47aa2",
       "version_major": 2,
       "version_minor": 0
      },
      "text/plain": [
       "A Jupyter Widget"
      ]
     },
     "metadata": {},
     "output_type": "display_data"
    }
   ],
   "source": [
    "w = widgets.IntSlider()\n",
    "display(w)"
   ]
  },
  {
   "cell_type": "code",
   "execution_count": 8,
   "metadata": {},
   "outputs": [
    {
     "data": {
      "text/plain": [
       "74"
      ]
     },
     "execution_count": 8,
     "metadata": {},
     "output_type": "execute_result"
    }
   ],
   "source": [
    "w.value"
   ]
  },
  {
   "cell_type": "code",
   "execution_count": 14,
   "metadata": {},
   "outputs": [
    {
     "data": {
      "application/vnd.jupyter.widget-view+json": {
       "model_id": "dec050cd75544ebeb9fc124c6cc3a8fd",
       "version_major": 2,
       "version_minor": 0
      },
      "text/plain": [
       "A Jupyter Widget"
      ]
     },
     "metadata": {},
     "output_type": "display_data"
    }
   ],
   "source": [
    "file = open(\"aerial_ligo5_300v4.jpg\", \"rb\")\n",
    "image = file.read()\n",
    "widgets.Image(\n",
    "    value=image,\n",
    "    format='png',\n",
    "    width=300,\n",
    "    height=400,\n",
    ")"
   ]
  },
  {
   "cell_type": "code",
   "execution_count": 5,
   "metadata": {},
   "outputs": [
    {
     "name": "stdout",
     "output_type": "stream",
     "text": [
      "   Unnamed: 0  Current  SystUncert  Counts  Corrected counts         B  \\\n",
      "0         NaN       51           2       6          6.000007  0.009806   \n",
      "1         NaN      101           2       4          4.000003  0.016382   \n",
      "2         NaN      141           2      55         55.000605  0.021641   \n",
      "3         NaN      203           2     130        130.003380  0.029794   \n",
      "4         NaN      227           2     125        125.003125  0.032951   \n",
      "5         NaN      251           2      77         77.001186  0.036106   \n",
      "6         NaN      295           2      12         12.000029  0.041892   \n",
      "7         NaN      321           2       5          5.000005  0.045311   \n",
      "8         NaN      375           2       3          3.000002  0.052413   \n",
      "\n",
      "   SystUncertB             p  E_tot_KeV       E_tot_J      T  Kurie Variable  \n",
      "0     0.000385  5.960000e-23      524.0  8.380000e-14   12.9    4.108260e+22  \n",
      "1     0.000324  9.960000e-23      545.0  8.720000e-14   33.9    2.008040e+22  \n",
      "2     0.000307  1.320000e-22      568.0  9.090000e-14   57.2    5.636280e+22  \n",
      "3     0.000294  1.810000e-22      614.0  9.830000e-14  103.0    6.294160e+22  \n",
      "4     0.000290  2.000000e-22      635.0  1.020000e-13  124.0    5.580780e+22  \n",
      "5     0.000288  2.200000e-22      657.0  1.050000e-13  146.0    3.997240e+22  \n",
      "6     0.000284  2.550000e-22      700.0  1.120000e-13  189.0    1.360040e+22  \n",
      "7     0.000282  2.750000e-22      727.0  1.160000e-13  216.0    8.116580e+21  \n",
      "8     0.000280  3.190000e-22      787.0  1.260000e-13  276.0    5.435280e+21  \n"
     ]
    },
    {
     "ename": "NameError",
     "evalue": "name 'data' is not defined",
     "output_type": "error",
     "traceback": [
      "\u001b[0;31m---------------------------------------------------------------------------\u001b[0m",
      "\u001b[0;31mNameError\u001b[0m                                 Traceback (most recent call last)",
      "\u001b[0;32m<ipython-input-5-c42f23c3a36b>\u001b[0m in \u001b[0;36m<module>\u001b[0;34m()\u001b[0m\n\u001b[1;32m      1\u001b[0m \u001b[0mLineFit\u001b[0m\u001b[0;34m.\u001b[0m\u001b[0mdata_show\u001b[0m\u001b[0;34m(\u001b[0m\u001b[0mshow\u001b[0m\u001b[0;34m=\u001b[0m\u001b[0;32mTrue\u001b[0m\u001b[0;34m)\u001b[0m\u001b[0;34m\u001b[0m\u001b[0m\n\u001b[0;32m----> 2\u001b[0;31m \u001b[0mdata\u001b[0m\u001b[0;34m.\u001b[0m\u001b[0mhead\u001b[0m\u001b[0;34m(\u001b[0m\u001b[0;34m)\u001b[0m\u001b[0;34m\u001b[0m\u001b[0m\n\u001b[0m",
      "\u001b[0;31mNameError\u001b[0m: name 'data' is not defined"
     ]
    }
   ],
   "source": [
    "LineFit.data_show(show=True)\n",
    "data.head()"
   ]
  },
  {
   "cell_type": "code",
   "execution_count": null,
   "metadata": {},
   "outputs": [],
   "source": []
  },
  {
   "cell_type": "code",
   "execution_count": 8,
   "metadata": {},
   "outputs": [
    {
     "name": "stdout",
     "output_type": "stream",
     "text": [
      "Plotting the calculated 1 sigma variance...\n"
     ]
    },
    {
     "data": {
      "image/png": "[encoded data removed]",
      "text/plain": [
       "<matplotlib.figure.Figure at 0x1172b2a20>"
      ]
     },
     "metadata": {},
     "output_type": "display_data"
    }
   ],
   "source": [
    "LineFit.plot(linfit=False)"
   ]
  },
  {
   "cell_type": "code",
   "execution_count": null,
   "metadata": {
    "collapsed": true
   },
   "outputs": [],
   "source": [
    "k"
   ]
  },
  {
   "cell_type": "code",
   "execution_count": null,
   "metadata": {
    "collapsed": true
   },
   "outputs": [],
   "source": []
  }
 ],
 "metadata": {
  "kernelspec": {
   "display_name": "Python 3",
   "language": "python",
   "name": "python3"
  },
  "language_info": {
   "codemirror_mode": {
    "name": "ipython",
    "version": 3
   },
   "file_extension": ".py",
   "mimetype": "text/x-python",
   "name": "python",
   "nbconvert_exporter": "python",
   "pygments_lexer": "ipython3",
   "version": "3.6.3"
  }
 },
 "nbformat": 4,
 "nbformat_minor": 2
}
