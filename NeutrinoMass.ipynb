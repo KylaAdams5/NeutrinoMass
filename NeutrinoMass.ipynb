{
 "cells": [
  {
   "cell_type": "markdown",
   "metadata": {},
   "source": [
    "# Determining the Mass of the Neutrino\n",
    "\n",
    "NeutrinoMass is a code that shows the various methods to place constraints on the mass of the neutrino. These methods include experimental data and MonteCarlo Simulations. It is written in Python and run in a Jupyter Notebook. The notebook contains interactive code that allows the user to change plots and explore the effect of parameters on simulations. \n",
    "\n",
    "The Notebook is based off of the project designed for the COMP-90072 Masters Unit at the University of Melbourne. The file *Determing the mass of the neutrino.pdf* contains the final report. The report outlines the intermediate steps and justifications for using certain methods here. The document is able to be used separately and in conjunction with this notebook, depending on the user. \n",
    "\n",
    "The Neutrino has had a long history in physics, it was first postulated by Pauli in 1930 and 'discovered' around 1950 and colminated in a nobel prize. However, it's exact mass is not yet known. There are many experiments around the world aiming to determine its mass. These experiments, in order to gaim funding they need to show that they will actually see something. How can this be done? By numerical simulation. \n",
    "\n",
    "This notebook will teach you how to use your computer, through the programing language python, how do place some limits on the neutirno mass that can be used to inform future experiments. It can be completed in tandem with the pdf found in the GitHub repository [NeutrinoMass](https://github.com/KylaAdams5/NeutrinoMass). The relevant chapters and sections for each code section is outlined.  "
   ]
  },
  {
   "cell_type": "markdown",
   "metadata": {},
   "source": [
    "## Initialise\n",
    "\n",
    "The first step in any computer simulation is to set the initial conditions and ensure that the cose can work. \n",
    "Python documentation and code is to import the desired packages. Packages are prewritten code that can do a variety of functions. There are many pros and cons for importing packages. The pros are that the amount of code that one needs to write will only be specific to what you need (i.e. how to import a particular data set, not data in general). The payoff for using these functions is that they often have many assumptions built into them and the steps used are often hidden within the source code.\n",
    "\n",
    "* Many physics codes will always use numpy and, matplotlib, pandas is occasionally used, mainly for projects that require large data sets with many different columns and names. \n",
    "\n",
    "* A jupyter/IPython notebook specific package is *ipywidgets*. This package allows for the use of sliders, buttons and text inputs that are otherwise unable to be used in python codes that are run in a terminal. \n",
    "\n",
    "* Finally there are a number of functions that are called that have been written specifically for the project. These functions allow for the simpliciation of the notebook as it hides away the extra lines of code only showing the functions that give a readable output.\n",
    "\n",
    "A typical way to visualise code is to use flow charts indicating the modularity of the code. The figure below shows how each of the differnt scripts contained in the source code interact together with the inbuild python codes. The arrows can be read as *is called in* ie the Function ```import_data``` *is called in* ```LineFit```.\n",
    "\n",
    "To run a cell press ```shift + return```."
   ]
  },
  {
   "cell_type": "code",
   "execution_count": null,
   "metadata": {},
   "outputs": [],
   "source": [
    "# Python specific \n",
    "import pandas\n",
    "import numpy as np\n",
    "import matplotlib.pyplot as plt\n",
    "\n",
    "# Notebook specific\n",
    "import  ipywidgets as widgets\n",
    "\n",
    "# Project specific \n",
    "import import_data\n",
    "import LineFit\n",
    "import RandomDist\n",
    "\n",
    "import momenta\n",
    "\n",
    "import density"
   ]
  },
  {
   "cell_type": "code",
   "execution_count": null,
   "metadata": {},
   "outputs": [],
   "source": [
    "file = open(\"CodeStructure.jpeg\", \"rb\")\n",
    "image = file.read()\n",
    "widgets.Image(\n",
    "    value=image,\n",
    "    format='png',\n",
    "    width=500,\n",
    "    height=600,\n",
    ")"
   ]
  },
  {
   "cell_type": "markdown",
   "metadata": {},
   "source": [
    "## Experimental Data and Least Squares Fitting"
   ]
  },
  {
   "cell_type": "markdown",
   "metadata": {},
   "source": [
    "The first thing most experimental physcists do before applying for grant funding is conduct a smaller experiment using materials already present in a lab. ```Chapter 1 ``` in the report outlines how exactly the data was collected. In general a radioactive source in placed within a vacuum chamber and as the radioactive elements decay a magnetic field redirects the daughter particles that carry a charge while the neutral neutrinos continue on. The Figure below shows the experimental setup. For more detail see ```Section 2.1```."
   ]
  },
  {
   "cell_type": "code",
   "execution_count": null,
   "metadata": {},
   "outputs": [],
   "source": [
    "#Extra experimental widget line\n",
    "file = open(\"ExperimentalSetup.png\", \"rb\")\n",
    "image = file.read()\n",
    "widgets.Image(\n",
    "    value=image,\n",
    "    format='png',\n",
    "    width=500,\n",
    "    height=600,\n",
    ")"
   ]
  },
  {
   "cell_type": "markdown",
   "metadata": {},
   "source": [
    "The first step in modelling experimental data is to analyse the data. First a function was written so that the desired data file (already specified in the documentation) is imported as a pandas array and each column is given the appropiate name. This function is then called in the *LineFit* file so that the data can then be plotted. The data can be imported by using the funtion import_data. This function will take the data file from a predetermined location then export each heading into various arrays.  \n",
    "The cell below calls *import_data* function that is in the *LineFit* code and displays it if **TRUE**."
   ]
  },
  {
   "cell_type": "code",
   "execution_count": null,
   "metadata": {},
   "outputs": [],
   "source": [
    " LineFit.data_show(show=True)"
   ]
  },
  {
   "cell_type": "markdown",
   "metadata": {},
   "source": [
    "Specific headings can be displayed and assigned by using the array names in the LineFit package. Full column titles can be found in ```Chapter 3```."
   ]
  },
  {
   "cell_type": "code",
   "execution_count": null,
   "metadata": {},
   "outputs": [],
   "source": [
    "LineFit.current"
   ]
  },
  {
   "cell_type": "markdown",
   "metadata": {},
   "source": [
    "The data can then be manipulated as desired, calculations can be made and plots generated. The calculations relevant here is the determination of the Kurie Variable, what the Kurie Variable is is defined in the ```Chapter 3```. By plotting the Kurie Variable with the Kinetic energy certain information about the constituent particles can be measured. The one of interest in the Kinetic Energy verses the Kurie Variable. These data columns can be extracted from the above data set then plotted. The function plot within the LineFit code can be used to determine what parts of the kurie plot to show, the least squaares fit, the data line or the error bars. By changing the ```fitshow```, ```linfit``` and ```Errorbar``` options the plot below can be altered as desired."
   ]
  },
  {
   "cell_type": "code",
   "execution_count": null,
   "metadata": {},
   "outputs": [],
   "source": [
    "LineFit.plot(fitshow = True, linfit=True, Errorbar=True)"
   ]
  },
  {
   "cell_type": "code",
   "execution_count": null,
   "metadata": {},
   "outputs": [],
   "source": [
    "Grad, E0 = LineFit.returnGradC()\n",
    "print('The Gradient is: ',Grad, '\\nThe Intercept is:', E0)"
   ]
  },
  {
   "cell_type": "markdown",
   "metadata": {},
   "source": [
    "  From this linear fit limitations on the mass of the neutrino can be made. The beginning of ```Chapter 3``` details these equations and places a limit on the neutrino mass."
   ]
  },
  {
   "cell_type": "markdown",
   "metadata": {},
   "source": [
    "## Monte Carlo Simulations\n",
    "In addition to experimental data, another method used by experimental physcists prior to building expensive detectors is computer simulations. By using these simulations limits can be placed on the mass of the neutrino is by using computer simulations. \n",
    "These simulations rely on the generation of random numbers to attempt and recreate real life experiments. These random numbers are never truly random. As computers use algortihms to generate their values. These algorithms rely on each previous calculation, this is a Monte Carlo calculation. The accompanying report ```Section 3.1``` outlines how the code is generated, the flowchart of how the code operates can be seen below. "
   ]
  },
  {
   "cell_type": "code",
   "execution_count": null,
   "metadata": {},
   "outputs": [],
   "source": [
    "file = open(\"FlowChartRandDist.jpeg\", \"rb\")\n",
    "image = file.read()\n",
    "widgets.Image(\n",
    "    value=image,\n",
    "    format='png',\n",
    "    width=500,\n",
    "    height=600,\n",
    ")"
   ]
  },
  {
   "cell_type": "markdown",
   "metadata": {},
   "source": [
    "This next line of code calles a function from the python script ```RandomDist``` called ```RandomGen```. The function takes the inputs (number of samples, mean value and the standard deviation)."
   ]
  },
  {
   "cell_type": "code",
   "execution_count": null,
   "metadata": {},
   "outputs": [],
   "source": [
    "RandomDist.RandomGen(10,1,2)"
   ]
  },
  {
   "cell_type": "markdown",
   "metadata": {},
   "source": [
    "By using this Random uniform number generator, the distribuions of the momenta from two different sources, Pions and Kaons. In a neutrino beam experiment a combination of these fundamental particles are used, around 86% Pions and 14% Kaons. To mimick these distributions a shifted uniform of momenta. These distributions can be seen below. The distributions are separated in their longitudinal and transverse components."
   ]
  },
  {
   "cell_type": "code",
   "execution_count": null,
   "metadata": {},
   "outputs": [],
   "source": [
    "MomentaDistribution, Distance = momenta.outputDistributions()\n",
    "momenta.plothist(MomentaDistribution, pion=True, kaon = True, Title = 'Momenta Distribution')"
   ]
  },
  {
   "cell_type": "markdown",
   "metadata": {},
   "source": [
    "The plot below shows the transverse distance travelled by the pions and kaons in the Lab frame. The previous momenta distributions have been lorentz transformed and the distances travelled have then been calculated. "
   ]
  },
  {
   "cell_type": "code",
   "execution_count": null,
   "metadata": {},
   "outputs": [],
   "source": [
    "momenta.plothist(Distance, pion=False, kaon=True, label = 'Decay Distance')"
   ]
  },
  {
   "cell_type": "markdown",
   "metadata": {},
   "source": [
    "As stated in the Report attached, the generated momenta can be separated into their transverse and longitudinal components. These are the trajectories that are important in the determination of whether a neutrino will hit a detector or not. If the longituninal momenta is smaller than the length of the tube remaining then they will not hit, or if their transverse momenta are larger than the size of the neutrino detector place then the neutrinos will also miss. "
   ]
  },
  {
   "cell_type": "markdown",
   "metadata": {},
   "source": [
    "A schematic of these momenta can be found below. The neutrino beam is travelling along the horizontal axis from left to right. Once the mesons have undergone a decay, the resultant neurinos will travel along a trajectory deflected from teh horizontal by an angle theta. By calculating the transverse and longtitudinal momenta the percentage of neutrino incident on the plate can be found."
   ]
  },
  {
   "cell_type": "code",
   "execution_count": null,
   "metadata": {},
   "outputs": [],
   "source": [
    "file = open(\"Momenta.jpeg\", \"rb\")\n",
    "image = file.read()\n",
    "widgets.Image(\n",
    "    value=image,\n",
    "    format='png',\n",
    "    width=500,\n",
    "    height=600,\n",
    ")"
   ]
  },
  {
   "cell_type": "code",
   "execution_count": null,
   "metadata": {},
   "outputs": [],
   "source": [
    "lMomenta, tMomenta = momenta.outputMomenta()"
   ]
  },
  {
   "cell_type": "code",
   "execution_count": null,
   "metadata": {},
   "outputs": [],
   "source": [
    "momenta.plothist(lMomenta, pion=True, kaon=True, Title = 'Longitudinal Momenta ')"
   ]
  },
  {
   "cell_type": "code",
   "execution_count": null,
   "metadata": {},
   "outputs": [],
   "source": [
    "momenta.plothist(tMomenta, pion=False, kaon=True, Title = 'Transverse Momenta ')"
   ]
  },
  {
   "cell_type": "code",
   "execution_count": null,
   "metadata": {},
   "outputs": [],
   "source": [
    "momenta.percentagedetect(pion = True, kaon = False)"
   ]
  },
  {
   "cell_type": "markdown",
   "metadata": {},
   "source": [
    "## Cosmology\n",
    "\n",
    "The measurement of the cosmic microwave background lead to the ability to place constraints on the mass of the neutrino. In the early universe neutrinos were at a much higher density than the current day. By determining this density as a function of time the total mass of the neutrino (including the three flavours) can be determined. Here the masses themselves will not be determined, but the methods able to be utilised will be shown. A detailed outline can be found in ```Chapter 4```."
   ]
  },
  {
   "cell_type": "markdown",
   "metadata": {},
   "source": [
    "The relative number density of neutrinos (relative to the current day) can be determined through the use of the relation $\\frac{dr_X}{dt} = -\\beta_X n_\\gamma\\left(r_X^2 - r_{X,eq}^2\\right)$. By integrating this equation using a prebuilt Scipy function ```scipy.integrate.quad``` the relative number density as a function of temperature (in eV) can be determined. The function ```plotdensity()``` shows the result of this integration."
   ]
  },
  {
   "cell_type": "code",
   "execution_count": null,
   "metadata": {},
   "outputs": [],
   "source": [
    "density.plotdensity()"
   ]
  },
  {
   "cell_type": "markdown",
   "metadata": {},
   "source": [
    "The reltative number density increases with temperature, which is expected. The next step to understand the neutrino mass from cosmology is to determine the effect of the mass on the relative density."
   ]
  },
  {
   "cell_type": "code",
   "execution_count": null,
   "metadata": {},
   "outputs": [],
   "source": [
    "density.plotMassTemp()"
   ]
  },
  {
   "cell_type": "markdown",
   "metadata": {},
   "source": [
    "The plot above shows different neutrino masses in the different colours. This shows that the mass of the neutrino effects the relative density. By comparing the densities expected to give the comsic microwave background that is observed today the necessaty neutrino mass can be determined. THis has been done by many cosmologists. One of the current limits is  $\\sum m_\\nu < 0.17 eV$ at 95% confidence. "
   ]
  }
 ],
 "metadata": {
  "kernelspec": {
   "display_name": "Python 3",
   "language": "python",
   "name": "python3"
  },
  "language_info": {
   "codemirror_mode": {
    "name": "ipython",
    "version": 3
   },
   "file_extension": ".py",
   "mimetype": "text/x-python",
   "name": "python",
   "nbconvert_exporter": "python",
   "pygments_lexer": "ipython3",
   "version": "3.6.3"
  }
 },
 "nbformat": 4,
 "nbformat_minor": 2
}
