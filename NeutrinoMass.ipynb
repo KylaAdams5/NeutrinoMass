{
 "cells": [
  {
   "cell_type": "markdown",
   "metadata": {},
   "source": [
    "# Determining the Mass of the Neutrino\n",
    "\n",
    "Vigilante is a code that shows the various methods to place constraints on the mass of the neutrino. These methods include experimental data and MonteCarlo Simulations. It is written in Python and run in a Jupyter Notebook. The notebook contains interactive code that allows the user to change plots and explore the effect of parameters on simulations. \n",
    "\n",
    "The Notebook is based off of the project designed for the PHYC90007 Masters Unit at the University of Melbourne. The file *Determing the mass of the neutrino.pdf* contains the final report. The report outlines the intermediate steps and justifications for using certain methods here. The document is able to be used separately and in conjunction with this notebook, depending on the user. \n",
    "\n",
    "The Neutrino has had a long history in physics, it was first postulated by Pauli in 1930 and 'discovered' in 1950ish and colminated in a nobel prize. However, it's exact mass is not yet known. THere are many experiments around the world aiming to determine its mass. These experiments, in order to gaim funding they need to show that they will actually see something. How can this be done? By numerical simulation. \n",
    "\n",
    "This notebook will teach you how to use your computer, through the programing language python, how do place some limits on the neutirno mass that can be used to inform future experiments. "
   ]
  },
  {
   "cell_type": "markdown",
   "metadata": {},
   "source": [
    "## Initialise\n",
    "\n",
    "The first step in any computer simulation is to set the initial conditions and ensure that the cose can work. \n",
    "Python documentation and code is to import the desired packages. Packages are prewritten code that can do a variety of functions. There are many pros and cons for importing packages. The pros are that the amount of code that one needs to write will only be specific to what you need (i.e. how to import a particular data set, not data in general). The payoff for using these functions is that they often have many assumptions built into them and the steps used are often hidden within the source code.\n",
    "\n",
    "* Many physics codes will always use numpy and, matplotlib, pandas is occasionally used, mainly for projects that require large data sets with many different columns and names. \n",
    "\n",
    "* A jupyter/IPython notebook specific package is *ipywidgets*. This package allows for the use of sliders, buttons and text inputs that are otherwise unable to be used in python codes that are run in a terminal. \n",
    "\n",
    "* Finally there are a number of functions that are called that have been written specifically for the project. These functions allow for the simpliciation of the notebook as it hides away the extra lines of code only showing the functions that give a readable output.\n",
    "\n",
    "To run a cell press ```shift + return```."
   ]
  },
  {
   "cell_type": "code",
   "execution_count": 1,
   "metadata": {},
   "outputs": [
    {
     "name": "stdout",
     "output_type": "stream",
     "text": [
      "Pion Dist 201.130566039 \n",
      " Kaon Dist 202.377431891\n",
      "Pion distance 110.659627653 \n",
      " Kaon distance 14.5655186667\n",
      "rest 0.23553494024711366 0.029783918338108884\n",
      "[  4.67694852e-08   1.99402144e-08   5.99926800e-08   1.25320879e-07\n",
      "   9.37340342e-08   6.79219990e-08   4.91686590e-08   4.76469042e-08\n",
      "   2.74417306e-08   7.09764648e-08]\n",
      "[ 0.01632637  0.00425918 -0.01907981 -0.02436156  0.02480642 -0.02454027\n",
      " -0.01793012 -0.01253495  0.00910942  0.02374933]\n",
      "860 [  1.45753749e-05   1.26454624e-05   3.30228283e-05   7.07014728e-05\n",
      "   6.05997646e-05   4.53786975e-05   3.31154346e-05   1.69326005e-05\n",
      "   7.98831830e-06   4.93675848e-05]\n"
     ]
    },
    {
     "data": {
      "text/plain": [
       "<matplotlib.figure.Figure at 0x15100e2320>"
      ]
     },
     "metadata": {},
     "output_type": "display_data"
    }
   ],
   "source": [
    "# Python specific \n",
    "import pandas\n",
    "import numpy as np\n",
    "import matplotlib.pyplot as plt\n",
    "\n",
    "# Notebook specific \n",
    "import ipywidgets as widgets\n",
    "\n",
    "# Project specific \n",
    "import import_data\n",
    "import LineFit\n",
    "import RandomDist\n",
    "\n",
    "import momenta\n"
   ]
  },
  {
   "cell_type": "markdown",
   "metadata": {},
   "source": [
    "## Least Squares Fitting"
   ]
  },
  {
   "cell_type": "markdown",
   "metadata": {},
   "source": [
    "The first function for this project was written so that the desired data file (already specified in the documentattion) is imported as a pandas array and each column is given the appropiate name. This function is then called in the *LineFit* file so that the data can then be plottedThe data can be imported by using the funtion import_data. This function will take the data file from a predetermined location then export each heading into various arrays.  \n",
    "The cell below calls *import_data* function that is in the *LineFit* code and displays it if wanted."
   ]
  },
  {
   "cell_type": "markdown",
   "metadata": {},
   "source": [
    "# Add checkbox to display data or not"
   ]
  },
  {
   "cell_type": "code",
   "execution_count": null,
   "metadata": {},
   "outputs": [],
   "source": [
    " LineFit.data_show(show=True)"
   ]
  },
  {
   "cell_type": "markdown",
   "metadata": {},
   "source": [
    "Specific headings can be displayed and assigned by using the array names in the LineFit package."
   ]
  },
  {
   "cell_type": "code",
   "execution_count": null,
   "metadata": {},
   "outputs": [],
   "source": [
    "LineFit.current"
   ]
  },
  {
   "cell_type": "markdown",
   "metadata": {},
   "source": [
    "The data can then be manipulated as desired. and multiple plots can be made. The one of interest in the Kinetic Energy verses the Kurie Variable. These data columns can be extracted from the above data set then plotted. The function plot within the LineFit code can be used to determine what parts of the kurie plot to show, the least squaares fit, the data line or the error bars. By changing the fitshow, linfit and Errorbar options the plot below can be altered.\n",
    "\n",
    "# add buttons instead of changing variables \n",
    "\n",
    "bokeh - possibly eaiser to add buttons - if not just leave them along\n"
   ]
  },
  {
   "cell_type": "code",
   "execution_count": null,
   "metadata": {},
   "outputs": [],
   "source": [
    "LineFit.plot(fitshow = False, linfit=True, Errorbar=True)"
   ]
  },
  {
   "cell_type": "markdown",
   "metadata": {},
   "source": [
    "## Monte Carlo Simulations\n",
    "In addition to the experimental data, another method for placing limits on the mass of the neutrino is by using computer simulations. \n",
    "These simulations rely on the generation of random numbers to attempt and recreate real life experiments. These random numbers are never truly random as they rely on each previous calculation. The accompanying report outlines how the code is generated. Below is the random distriution of numbers with a given mean and std"
   ]
  },
  {
   "cell_type": "code",
   "execution_count": null,
   "metadata": {},
   "outputs": [],
   "source": [
    "RandomDist.RandomGen(10,1,2)"
   ]
  },
  {
   "cell_type": "code",
   "execution_count": null,
   "metadata": {},
   "outputs": [],
   "source": [
    "mu = 200\n",
    "sigma = 10\n",
    "dist, x= RandomDist.Momenta(1000, mu, sigma)"
   ]
  },
  {
   "cell_type": "code",
   "execution_count": null,
   "metadata": {},
   "outputs": [],
   "source": [
    "plt.hist(dist, 100)"
   ]
  },
  {
   "cell_type": "code",
   "execution_count": null,
   "metadata": {},
   "outputs": [],
   "source": [
    "w = LineFit.slider()\n",
    "display(w)"
   ]
  },
  {
   "cell_type": "code",
   "execution_count": null,
   "metadata": {},
   "outputs": [],
   "source": [
    "w.value\n"
   ]
  },
  {
   "cell_type": "code",
   "execution_count": null,
   "metadata": {},
   "outputs": [],
   "source": [
    "#Extra experimental widget line\n",
    "file = open(\"aerial_ligo5_300v4.jpg\", \"rb\")\n",
    "image = file.read()\n",
    "widgets.Image(\n",
    "    value=image,\n",
    "    format='png',\n",
    "    width=300,\n",
    "    height=400,\n",
    ")"
   ]
  },
  {
   "cell_type": "code",
   "execution_count": null,
   "metadata": {},
   "outputs": [],
   "source": [
    "LineFit.data_show(show=True)\n",
    "data.head()"
   ]
  },
  {
   "cell_type": "code",
   "execution_count": 2,
   "metadata": {},
   "outputs": [
    {
     "name": "stdout",
     "output_type": "stream",
     "text": [
      "Plotting the momenta distribution of decaying pions...\n",
      "Plotting the momenta distribution of decaying kaons...\n"
     ]
    },
    {
     "data": {
      "image/png": "[encoded data removed]",
      "text/plain": [
       "<matplotlib.figure.Figure at 0x1510474cc0>"
      ]
     },
     "metadata": {},
     "output_type": "display_data"
    }
   ],
   "source": [
    "MomentaDistribution, Distance = momenta.outputDistributions()\n",
    "momenta.plothist(MomentaDistribution, pion=True, kaon = True, Title = 'Momenta Distribution')"
   ]
  },
  {
   "cell_type": "code",
   "execution_count": 4,
   "metadata": {},
   "outputs": [
    {
     "name": "stdout",
     "output_type": "stream",
     "text": [
      "Plotting the momenta distribution of decaying pions...\n"
     ]
    },
    {
     "data": {
      "image/png": "[encoded data removed]",
      "text/plain": [
       "<matplotlib.figure.Figure at 0x15104a6c18>"
      ]
     },
     "metadata": {},
     "output_type": "display_data"
    }
   ],
   "source": [
    "momenta.plothist(Distance, pion=True, kaon=False, label = 'Decay Distance')"
   ]
  },
  {
   "cell_type": "code",
   "execution_count": null,
   "metadata": {},
   "outputs": [],
   "source": [
    "lMomenta, tMomenta = momenta.outputMomenta()"
   ]
  },
  {
   "cell_type": "code",
   "execution_count": null,
   "metadata": {},
   "outputs": [],
   "source": [
    "momenta.plothist(lMomenta, pion=True, kaon=True, Title = 'Longitudinal Momenta ')"
   ]
  },
  {
   "cell_type": "code",
   "execution_count": null,
   "metadata": {},
   "outputs": [],
   "source": [
    "momenta.plothist(tMomenta, pion=True, kaon=True, Title = 'Transverse Momenta ')"
   ]
  },
  {
   "cell_type": "code",
   "execution_count": null,
   "metadata": {},
   "outputs": [],
   "source": [
    "np.random.uniform()"
   ]
  },
  {
   "cell_type": "code",
   "execution_count": null,
   "metadata": {},
   "outputs": [],
   "source": [
    "np.arctan(1.5/400)"
   ]
  },
  {
   "cell_type": "code",
   "execution_count": null,
   "metadata": {},
   "outputs": [],
   "source": [
    "np.sin(0.004)"
   ]
  },
  {
   "cell_type": "code",
   "execution_count": null,
   "metadata": {},
   "outputs": [],
   "source": []
  }
 ],
 "metadata": {
  "kernelspec": {
   "display_name": "Python 3",
   "language": "python",
   "name": "python3"
  },
  "language_info": {
   "codemirror_mode": {
    "name": "ipython",
    "version": 3
   },
   "file_extension": ".py",
   "mimetype": "text/x-python",
   "name": "python",
   "nbconvert_exporter": "python",
   "pygments_lexer": "ipython3",
   "version": "3.6.3"
  }
 },
 "nbformat": 4,
 "nbformat_minor": 2
}
